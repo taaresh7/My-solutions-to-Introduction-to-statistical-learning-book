{
  "nbformat": 4,
  "nbformat_minor": 0,
  "metadata": {
    "colab": {
      "name": "ISLR Chapter Lab.ipynb",
      "provenance": [],
      "collapsed_sections": []
    },
    "kernelspec": {
      "name": "python3",
      "display_name": "Python 3"
    },
    "language_info": {
      "name": "python"
    }
  },
  "cells": [
    {
      "cell_type": "markdown",
      "metadata": {
        "id": "KIl4TEi9C0ym"
      },
      "source": [
        "#Chapter-3 Lab"
      ]
    },
    {
      "cell_type": "markdown",
      "metadata": {
        "id": "K5dbj-c9DAcL"
      },
      "source": [
        "###Loading data"
      ]
    },
    {
      "cell_type": "code",
      "metadata": {
        "id": "W8eAussmk0Ov"
      },
      "source": [
        "import numpy as np \n",
        "import pandas as pd \n",
        "import matplotlib.pyplot as plt\n",
        "import seaborn as sns \n",
        "from sklearn.linear_model import LinearRegression "
      ],
      "execution_count": 139,
      "outputs": []
    },
    {
      "cell_type": "code",
      "metadata": {
        "id": "WBqnnKmck71C"
      },
      "source": [
        "from sklearn.datasets import load_boston\n",
        "boston_data = load_boston()"
      ],
      "execution_count": 140,
      "outputs": []
    },
    {
      "cell_type": "code",
      "metadata": {
        "colab": {
          "base_uri": "https://localhost:8080/"
        },
        "id": "GcKKgg2Zl9Ov",
        "outputId": "7cb3d51b-5fc5-4d76-d6c6-6bf24246e35c"
      },
      "source": [
        "print(boston_data.DESCR)"
      ],
      "execution_count": 141,
      "outputs": [
        {
          "output_type": "stream",
          "text": [
            ".. _boston_dataset:\n",
            "\n",
            "Boston house prices dataset\n",
            "---------------------------\n",
            "\n",
            "**Data Set Characteristics:**  \n",
            "\n",
            "    :Number of Instances: 506 \n",
            "\n",
            "    :Number of Attributes: 13 numeric/categorical predictive. Median Value (attribute 14) is usually the target.\n",
            "\n",
            "    :Attribute Information (in order):\n",
            "        - CRIM     per capita crime rate by town\n",
            "        - ZN       proportion of residential land zoned for lots over 25,000 sq.ft.\n",
            "        - INDUS    proportion of non-retail business acres per town\n",
            "        - CHAS     Charles River dummy variable (= 1 if tract bounds river; 0 otherwise)\n",
            "        - NOX      nitric oxides concentration (parts per 10 million)\n",
            "        - RM       average number of rooms per dwelling\n",
            "        - AGE      proportion of owner-occupied units built prior to 1940\n",
            "        - DIS      weighted distances to five Boston employment centres\n",
            "        - RAD      index of accessibility to radial highways\n",
            "        - TAX      full-value property-tax rate per $10,000\n",
            "        - PTRATIO  pupil-teacher ratio by town\n",
            "        - B        1000(Bk - 0.63)^2 where Bk is the proportion of blacks by town\n",
            "        - LSTAT    % lower status of the population\n",
            "        - MEDV     Median value of owner-occupied homes in $1000's\n",
            "\n",
            "    :Missing Attribute Values: None\n",
            "\n",
            "    :Creator: Harrison, D. and Rubinfeld, D.L.\n",
            "\n",
            "This is a copy of UCI ML housing dataset.\n",
            "https://archive.ics.uci.edu/ml/machine-learning-databases/housing/\n",
            "\n",
            "\n",
            "This dataset was taken from the StatLib library which is maintained at Carnegie Mellon University.\n",
            "\n",
            "The Boston house-price data of Harrison, D. and Rubinfeld, D.L. 'Hedonic\n",
            "prices and the demand for clean air', J. Environ. Economics & Management,\n",
            "vol.5, 81-102, 1978.   Used in Belsley, Kuh & Welsch, 'Regression diagnostics\n",
            "...', Wiley, 1980.   N.B. Various transformations are used in the table on\n",
            "pages 244-261 of the latter.\n",
            "\n",
            "The Boston house-price data has been used in many machine learning papers that address regression\n",
            "problems.   \n",
            "     \n",
            ".. topic:: References\n",
            "\n",
            "   - Belsley, Kuh & Welsch, 'Regression diagnostics: Identifying Influential Data and Sources of Collinearity', Wiley, 1980. 244-261.\n",
            "   - Quinlan,R. (1993). Combining Instance-Based and Model-Based Learning. In Proceedings on the Tenth International Conference of Machine Learning, 236-243, University of Massachusetts, Amherst. Morgan Kaufmann.\n",
            "\n"
          ],
          "name": "stdout"
        }
      ]
    },
    {
      "cell_type": "code",
      "metadata": {
        "colab": {
          "base_uri": "https://localhost:8080/",
          "height": 206
        },
        "id": "DVg4-APek7vJ",
        "outputId": "6daff87d-85a9-4af8-b20a-9640cb650b58"
      },
      "source": [
        "boston_df = pd.DataFrame(np.c_[(boston_data.data, boston_data.target)] ,\n",
        "                         columns = np.concatenate((boston_data.feature_names, ['MEDIAN_VALUE'] )))\n",
        "boston_df.head()"
      ],
      "execution_count": 142,
      "outputs": [
        {
          "output_type": "execute_result",
          "data": {
            "text/html": [
              "<div>\n",
              "<style scoped>\n",
              "    .dataframe tbody tr th:only-of-type {\n",
              "        vertical-align: middle;\n",
              "    }\n",
              "\n",
              "    .dataframe tbody tr th {\n",
              "        vertical-align: top;\n",
              "    }\n",
              "\n",
              "    .dataframe thead th {\n",
              "        text-align: right;\n",
              "    }\n",
              "</style>\n",
              "<table border=\"1\" class=\"dataframe\">\n",
              "  <thead>\n",
              "    <tr style=\"text-align: right;\">\n",
              "      <th></th>\n",
              "      <th>CRIM</th>\n",
              "      <th>ZN</th>\n",
              "      <th>INDUS</th>\n",
              "      <th>CHAS</th>\n",
              "      <th>NOX</th>\n",
              "      <th>RM</th>\n",
              "      <th>AGE</th>\n",
              "      <th>DIS</th>\n",
              "      <th>RAD</th>\n",
              "      <th>TAX</th>\n",
              "      <th>PTRATIO</th>\n",
              "      <th>B</th>\n",
              "      <th>LSTAT</th>\n",
              "      <th>MEDIAN_VALUE</th>\n",
              "    </tr>\n",
              "  </thead>\n",
              "  <tbody>\n",
              "    <tr>\n",
              "      <th>0</th>\n",
              "      <td>0.00632</td>\n",
              "      <td>18.0</td>\n",
              "      <td>2.31</td>\n",
              "      <td>0.0</td>\n",
              "      <td>0.538</td>\n",
              "      <td>6.575</td>\n",
              "      <td>65.2</td>\n",
              "      <td>4.0900</td>\n",
              "      <td>1.0</td>\n",
              "      <td>296.0</td>\n",
              "      <td>15.3</td>\n",
              "      <td>396.90</td>\n",
              "      <td>4.98</td>\n",
              "      <td>24.0</td>\n",
              "    </tr>\n",
              "    <tr>\n",
              "      <th>1</th>\n",
              "      <td>0.02731</td>\n",
              "      <td>0.0</td>\n",
              "      <td>7.07</td>\n",
              "      <td>0.0</td>\n",
              "      <td>0.469</td>\n",
              "      <td>6.421</td>\n",
              "      <td>78.9</td>\n",
              "      <td>4.9671</td>\n",
              "      <td>2.0</td>\n",
              "      <td>242.0</td>\n",
              "      <td>17.8</td>\n",
              "      <td>396.90</td>\n",
              "      <td>9.14</td>\n",
              "      <td>21.6</td>\n",
              "    </tr>\n",
              "    <tr>\n",
              "      <th>2</th>\n",
              "      <td>0.02729</td>\n",
              "      <td>0.0</td>\n",
              "      <td>7.07</td>\n",
              "      <td>0.0</td>\n",
              "      <td>0.469</td>\n",
              "      <td>7.185</td>\n",
              "      <td>61.1</td>\n",
              "      <td>4.9671</td>\n",
              "      <td>2.0</td>\n",
              "      <td>242.0</td>\n",
              "      <td>17.8</td>\n",
              "      <td>392.83</td>\n",
              "      <td>4.03</td>\n",
              "      <td>34.7</td>\n",
              "    </tr>\n",
              "    <tr>\n",
              "      <th>3</th>\n",
              "      <td>0.03237</td>\n",
              "      <td>0.0</td>\n",
              "      <td>2.18</td>\n",
              "      <td>0.0</td>\n",
              "      <td>0.458</td>\n",
              "      <td>6.998</td>\n",
              "      <td>45.8</td>\n",
              "      <td>6.0622</td>\n",
              "      <td>3.0</td>\n",
              "      <td>222.0</td>\n",
              "      <td>18.7</td>\n",
              "      <td>394.63</td>\n",
              "      <td>2.94</td>\n",
              "      <td>33.4</td>\n",
              "    </tr>\n",
              "    <tr>\n",
              "      <th>4</th>\n",
              "      <td>0.06905</td>\n",
              "      <td>0.0</td>\n",
              "      <td>2.18</td>\n",
              "      <td>0.0</td>\n",
              "      <td>0.458</td>\n",
              "      <td>7.147</td>\n",
              "      <td>54.2</td>\n",
              "      <td>6.0622</td>\n",
              "      <td>3.0</td>\n",
              "      <td>222.0</td>\n",
              "      <td>18.7</td>\n",
              "      <td>396.90</td>\n",
              "      <td>5.33</td>\n",
              "      <td>36.2</td>\n",
              "    </tr>\n",
              "  </tbody>\n",
              "</table>\n",
              "</div>"
            ],
            "text/plain": [
              "      CRIM    ZN  INDUS  CHAS  ...  PTRATIO       B  LSTAT  MEDIAN_VALUE\n",
              "0  0.00632  18.0   2.31   0.0  ...     15.3  396.90   4.98          24.0\n",
              "1  0.02731   0.0   7.07   0.0  ...     17.8  396.90   9.14          21.6\n",
              "2  0.02729   0.0   7.07   0.0  ...     17.8  392.83   4.03          34.7\n",
              "3  0.03237   0.0   2.18   0.0  ...     18.7  394.63   2.94          33.4\n",
              "4  0.06905   0.0   2.18   0.0  ...     18.7  396.90   5.33          36.2\n",
              "\n",
              "[5 rows x 14 columns]"
            ]
          },
          "metadata": {
            "tags": []
          },
          "execution_count": 142
        }
      ]
    },
    {
      "cell_type": "markdown",
      "metadata": {
        "id": "oCklitXcDE9c"
      },
      "source": [
        "##Simple Linear Regression"
      ]
    },
    {
      "cell_type": "code",
      "metadata": {
        "id": "jJPdpApzk7sS"
      },
      "source": [
        "#using sklearn Linear Regression and t scores , so I found another library stastmodels\n",
        "# which also use the R style formulas\n",
        "import statsmodels.api as sm\n",
        "import statsmodels.formula.api as smf"
      ],
      "execution_count": 143,
      "outputs": []
    },
    {
      "cell_type": "code",
      "metadata": {
        "id": "QQ8FNVGpk7pX"
      },
      "source": [
        "boston_df['intercept'] = np.ones(506)\n",
        "lr = sm.OLS(endog = boston_df['MEDIAN_VALUE'], exog = boston_df[['LSTAT' , 'intercept']])\n",
        "results = lr.fit()"
      ],
      "execution_count": 144,
      "outputs": []
    },
    {
      "cell_type": "code",
      "metadata": {
        "colab": {
          "base_uri": "https://localhost:8080/"
        },
        "id": "fbu-tC77qOTh",
        "outputId": "021ce567-770c-49f9-c820-02037795daa7"
      },
      "source": [
        "print(results.summary())"
      ],
      "execution_count": 145,
      "outputs": [
        {
          "output_type": "stream",
          "text": [
            "                            OLS Regression Results                            \n",
            "==============================================================================\n",
            "Dep. Variable:           MEDIAN_VALUE   R-squared:                       0.544\n",
            "Model:                            OLS   Adj. R-squared:                  0.543\n",
            "Method:                 Least Squares   F-statistic:                     601.6\n",
            "Date:                Wed, 14 Jul 2021   Prob (F-statistic):           5.08e-88\n",
            "Time:                        16:21:16   Log-Likelihood:                -1641.5\n",
            "No. Observations:                 506   AIC:                             3287.\n",
            "Df Residuals:                     504   BIC:                             3295.\n",
            "Df Model:                           1                                         \n",
            "Covariance Type:            nonrobust                                         \n",
            "==============================================================================\n",
            "                 coef    std err          t      P>|t|      [0.025      0.975]\n",
            "------------------------------------------------------------------------------\n",
            "LSTAT         -0.9500      0.039    -24.528      0.000      -1.026      -0.874\n",
            "intercept     34.5538      0.563     61.415      0.000      33.448      35.659\n",
            "==============================================================================\n",
            "Omnibus:                      137.043   Durbin-Watson:                   0.892\n",
            "Prob(Omnibus):                  0.000   Jarque-Bera (JB):              291.373\n",
            "Skew:                           1.453   Prob(JB):                     5.36e-64\n",
            "Kurtosis:                       5.319   Cond. No.                         29.7\n",
            "==============================================================================\n",
            "\n",
            "Warnings:\n",
            "[1] Standard Errors assume that the covariance matrix of the errors is correctly specified.\n"
          ],
          "name": "stdout"
        }
      ]
    },
    {
      "cell_type": "markdown",
      "metadata": {
        "id": "ics_CVC2Zaf-"
      },
      "source": [
        "###Confidence Interval"
      ]
    },
    {
      "cell_type": "code",
      "metadata": {
        "colab": {
          "base_uri": "https://localhost:8080/",
          "height": 112
        },
        "id": "ZH0FEz3fCv6m",
        "outputId": "fefcd83d-df6e-4ac5-cd76-d72d7b4ccd48"
      },
      "source": [
        "results.conf_int()"
      ],
      "execution_count": 146,
      "outputs": [
        {
          "output_type": "execute_result",
          "data": {
            "text/html": [
              "<div>\n",
              "<style scoped>\n",
              "    .dataframe tbody tr th:only-of-type {\n",
              "        vertical-align: middle;\n",
              "    }\n",
              "\n",
              "    .dataframe tbody tr th {\n",
              "        vertical-align: top;\n",
              "    }\n",
              "\n",
              "    .dataframe thead th {\n",
              "        text-align: right;\n",
              "    }\n",
              "</style>\n",
              "<table border=\"1\" class=\"dataframe\">\n",
              "  <thead>\n",
              "    <tr style=\"text-align: right;\">\n",
              "      <th></th>\n",
              "      <th>0</th>\n",
              "      <th>1</th>\n",
              "    </tr>\n",
              "  </thead>\n",
              "  <tbody>\n",
              "    <tr>\n",
              "      <th>LSTAT</th>\n",
              "      <td>-1.026148</td>\n",
              "      <td>-0.873951</td>\n",
              "    </tr>\n",
              "    <tr>\n",
              "      <th>intercept</th>\n",
              "      <td>33.448457</td>\n",
              "      <td>35.659225</td>\n",
              "    </tr>\n",
              "  </tbody>\n",
              "</table>\n",
              "</div>"
            ],
            "text/plain": [
              "                   0          1\n",
              "LSTAT      -1.026148  -0.873951\n",
              "intercept  33.448457  35.659225"
            ]
          },
          "metadata": {
            "tags": []
          },
          "execution_count": 146
        }
      ]
    },
    {
      "cell_type": "markdown",
      "metadata": {
        "id": "G8P5tMPYZgti"
      },
      "source": [
        "###Prediction Interval"
      ]
    },
    {
      "cell_type": "code",
      "metadata": {
        "colab": {
          "base_uri": "https://localhost:8080/",
          "height": 143
        },
        "id": "lHg3cYJfI5I9",
        "outputId": "64fcc1a9-71e5-465f-cbc2-59b5eb9db535"
      },
      "source": [
        "predictions = results.get_prediction()\n",
        "predictions.summary_frame(alpha=0.05).iloc[[5,10,15]]\n",
        "# the mean_ci are confidence interval while the obs_ci's are prediction interval"
      ],
      "execution_count": 147,
      "outputs": [
        {
          "output_type": "execute_result",
          "data": {
            "text/html": [
              "<div>\n",
              "<style scoped>\n",
              "    .dataframe tbody tr th:only-of-type {\n",
              "        vertical-align: middle;\n",
              "    }\n",
              "\n",
              "    .dataframe tbody tr th {\n",
              "        vertical-align: top;\n",
              "    }\n",
              "\n",
              "    .dataframe thead th {\n",
              "        text-align: right;\n",
              "    }\n",
              "</style>\n",
              "<table border=\"1\" class=\"dataframe\">\n",
              "  <thead>\n",
              "    <tr style=\"text-align: right;\">\n",
              "      <th></th>\n",
              "      <th>mean</th>\n",
              "      <th>mean_se</th>\n",
              "      <th>mean_ci_lower</th>\n",
              "      <th>mean_ci_upper</th>\n",
              "      <th>obs_ci_lower</th>\n",
              "      <th>obs_ci_upper</th>\n",
              "    </tr>\n",
              "  </thead>\n",
              "  <tbody>\n",
              "    <tr>\n",
              "      <th>5</th>\n",
              "      <td>29.604084</td>\n",
              "      <td>0.399336</td>\n",
              "      <td>28.819515</td>\n",
              "      <td>30.388652</td>\n",
              "      <td>17.366915</td>\n",
              "      <td>41.841253</td>\n",
              "    </tr>\n",
              "    <tr>\n",
              "      <th>10</th>\n",
              "      <td>15.125332</td>\n",
              "      <td>0.409341</td>\n",
              "      <td>14.321106</td>\n",
              "      <td>15.929557</td>\n",
              "      <td>2.886886</td>\n",
              "      <td>27.363777</td>\n",
              "    </tr>\n",
              "    <tr>\n",
              "      <th>15</th>\n",
              "      <td>26.506923</td>\n",
              "      <td>0.320323</td>\n",
              "      <td>25.877590</td>\n",
              "      <td>27.136256</td>\n",
              "      <td>14.278725</td>\n",
              "      <td>38.735121</td>\n",
              "    </tr>\n",
              "  </tbody>\n",
              "</table>\n",
              "</div>"
            ],
            "text/plain": [
              "         mean   mean_se  ...  obs_ci_lower  obs_ci_upper\n",
              "5   29.604084  0.399336  ...     17.366915     41.841253\n",
              "10  15.125332  0.409341  ...      2.886886     27.363777\n",
              "15  26.506923  0.320323  ...     14.278725     38.735121\n",
              "\n",
              "[3 rows x 6 columns]"
            ]
          },
          "metadata": {
            "tags": []
          },
          "execution_count": 147
        }
      ]
    },
    {
      "cell_type": "markdown",
      "metadata": {
        "id": "IQ2CadluBsbD"
      },
      "source": [
        "###Plotting the regression line"
      ]
    },
    {
      "cell_type": "code",
      "metadata": {
        "colab": {
          "base_uri": "https://localhost:8080/",
          "height": 374
        },
        "id": "m52XBZEpZX6z",
        "outputId": "bfc7ff01-b8f0-4596-e527-2b91ceee0891"
      },
      "source": [
        "m = results.params[0]   #slope -- LSTAT\n",
        "b = results.params[1]   #intercept\n",
        "\n",
        "#used ggplot style and empty circles to make the plots look like the ones in R \n",
        "plt.style.use('ggplot')\n",
        "\n",
        "plt.figure(figsize = [8,6])\n",
        "plt.plot(boston_df['LSTAT'] , boston_df['MEDIAN_VALUE'], 'o' , color = 'black' ,  markerfacecolor = 'none')\n",
        "\n",
        "x = np.linspace(0,38,100)\n",
        "plt.plot(x , m*x  + b ,color = 'red')\n",
        "plt.show()"
      ],
      "execution_count": 148,
      "outputs": [
        {
          "output_type": "display_data",
          "data": {
            "image/png": "[encoded data removed]",
            "text/plain": [
              "<Figure size 576x432 with 1 Axes>"
            ]
          },
          "metadata": {
            "tags": []
          }
        }
      ]
    },
    {
      "cell_type": "code",
      "metadata": {
        "colab": {
          "base_uri": "https://localhost:8080/",
          "height": 391
        },
        "id": "lsdKbPKXFKtB",
        "outputId": "e69d68cb-b41c-4878-b7f1-b8ecbc1d648d"
      },
      "source": [
        "predict = results.fittedvalues\n",
        "\n",
        "residuals = results.resid\n",
        "student_resid = results.outlier_test().loc[:,'student_resid']\n",
        "fig ,(ax1,ax2) = plt.subplots(1,2, figsize = [15,6])\n",
        "\n",
        "ax1.plot(predict , residuals , 'o' ,color = 'black' ,mfc ='none' )\n",
        "ax1.set_xlabel('Fitted Values')\n",
        "ax1.set_ylabel('Residuals')\n",
        "\n",
        "ax2.plot(predict ,student_resid , 'o' ,color = 'black' ,mfc ='none' )\n",
        "ax2.set_xlabel('Fitted Values')\n",
        "ax2.set_ylabel('Studentized Residuals')\n",
        "\n",
        "plt.show()"
      ],
      "execution_count": 149,
      "outputs": [
        {
          "output_type": "display_data",
          "data": {
            "image/png": "[encoded data removed]",
            "text/plain": [
              "<Figure size 1080x432 with 2 Axes>"
            ]
          },
          "metadata": {
            "tags": []
          }
        }
      ]
    },
    {
      "cell_type": "markdown",
      "metadata": {
        "id": "UeDmyShJyfkX"
      },
      "source": [
        "##Leverage"
      ]
    },
    {
      "cell_type": "code",
      "metadata": {
        "colab": {
          "base_uri": "https://localhost:8080/"
        },
        "id": "QP4jqachaT5H",
        "outputId": "8575d36d-681f-439e-f365-dd3c59e5bf08"
      },
      "source": [
        "influence = results.get_influence()\n",
        "\n",
        "#leverage (hat values)\n",
        "leverage = influence.hat_matrix_diag\n",
        "\n",
        "print(np.argmax(leverage)) #obseravtion 374 has the highest leverage value"
      ],
      "execution_count": 150,
      "outputs": [
        {
          "output_type": "stream",
          "text": [
            "374\n"
          ],
          "name": "stdout"
        }
      ]
    },
    {
      "cell_type": "code",
      "metadata": {
        "colab": {
          "base_uri": "https://localhost:8080/",
          "height": 347
        },
        "id": "1EEpZ64hRkOn",
        "outputId": "d86006f0-3351-4a5d-f85d-6ad49343110b"
      },
      "source": [
        "plt.figure(figsize = [7,5.5])\n",
        "plt.plot(leverage, 'o' , c ='black' , mfc= 'none')\n",
        "plt.ylabel('Leverage')\n",
        "plt.show()"
      ],
      "execution_count": 151,
      "outputs": [
        {
          "output_type": "display_data",
          "data": {
            "image/png": "[encoded data removed]",
            "text/plain": [
              "<Figure size 504x396 with 1 Axes>"
            ]
          },
          "metadata": {
            "tags": []
          }
        }
      ]
    },
    {
      "cell_type": "code",
      "metadata": {
        "colab": {
          "base_uri": "https://localhost:8080/"
        },
        "id": "3ayBYb3OQwRY",
        "outputId": "c8cb4134-5eae-4d47-efc5-575bff06ecaa"
      },
      "source": [
        "h = 2/len(boston_df)  # (1+p)/n\n",
        "\n",
        "#any points that greatly exceed this value are high leverage points\n",
        "print(h) # so anything above .7 -.8"
      ],
      "execution_count": 152,
      "outputs": [
        {
          "output_type": "stream",
          "text": [
            "0.003952569169960474\n"
          ],
          "name": "stdout"
        }
      ]
    },
    {
      "cell_type": "markdown",
      "metadata": {
        "id": "4TCfjYGyTPlj"
      },
      "source": [
        "##Multiple Linear Regression"
      ]
    },
    {
      "cell_type": "code",
      "metadata": {
        "id": "CYOOuBRaTHCj"
      },
      "source": [
        "ml = sm.OLS(boston_df['MEDIAN_VALUE'] ,boston_df[['LSTAT' , 'AGE' , 'intercept']] )\n",
        "mlr = ml.fit()"
      ],
      "execution_count": 153,
      "outputs": []
    },
    {
      "cell_type": "code",
      "metadata": {
        "colab": {
          "base_uri": "https://localhost:8080/"
        },
        "id": "C8dEwbEKTpXH",
        "outputId": "de2b9f8c-3422-43e9-88d5-53b93e74b925"
      },
      "source": [
        "print(mlr.summary())"
      ],
      "execution_count": 154,
      "outputs": [
        {
          "output_type": "stream",
          "text": [
            "                            OLS Regression Results                            \n",
            "==============================================================================\n",
            "Dep. Variable:           MEDIAN_VALUE   R-squared:                       0.551\n",
            "Model:                            OLS   Adj. R-squared:                  0.549\n",
            "Method:                 Least Squares   F-statistic:                     309.0\n",
            "Date:                Wed, 14 Jul 2021   Prob (F-statistic):           2.98e-88\n",
            "Time:                        16:21:18   Log-Likelihood:                -1637.5\n",
            "No. Observations:                 506   AIC:                             3281.\n",
            "Df Residuals:                     503   BIC:                             3294.\n",
            "Df Model:                           2                                         \n",
            "Covariance Type:            nonrobust                                         \n",
            "==============================================================================\n",
            "                 coef    std err          t      P>|t|      [0.025      0.975]\n",
            "------------------------------------------------------------------------------\n",
            "LSTAT         -1.0321      0.048    -21.416      0.000      -1.127      -0.937\n",
            "AGE            0.0345      0.012      2.826      0.005       0.011       0.059\n",
            "intercept     33.2228      0.731     45.458      0.000      31.787      34.659\n",
            "==============================================================================\n",
            "Omnibus:                      124.288   Durbin-Watson:                   0.945\n",
            "Prob(Omnibus):                  0.000   Jarque-Bera (JB):              244.026\n",
            "Skew:                           1.362   Prob(JB):                     1.02e-53\n",
            "Kurtosis:                       5.038   Cond. No.                         201.\n",
            "==============================================================================\n",
            "\n",
            "Warnings:\n",
            "[1] Standard Errors assume that the covariance matrix of the errors is correctly specified.\n"
          ],
          "name": "stdout"
        }
      ]
    },
    {
      "cell_type": "code",
      "metadata": {
        "id": "oDPab4slUG6D"
      },
      "source": [
        "ml = sm.OLS(boston_df['MEDIAN_VALUE'] ,boston_df.drop('MEDIAN_VALUE' , axis = 1) )\n",
        "mlr = ml.fit()"
      ],
      "execution_count": 155,
      "outputs": []
    },
    {
      "cell_type": "code",
      "metadata": {
        "colab": {
          "base_uri": "https://localhost:8080/"
        },
        "id": "CoLQZqN5UOJZ",
        "outputId": "f9194293-ab11-41b9-bd4c-1083644096d7"
      },
      "source": [
        "print(mlr.summary())"
      ],
      "execution_count": 156,
      "outputs": [
        {
          "output_type": "stream",
          "text": [
            "                            OLS Regression Results                            \n",
            "==============================================================================\n",
            "Dep. Variable:           MEDIAN_VALUE   R-squared:                       0.741\n",
            "Model:                            OLS   Adj. R-squared:                  0.734\n",
            "Method:                 Least Squares   F-statistic:                     108.1\n",
            "Date:                Wed, 14 Jul 2021   Prob (F-statistic):          6.72e-135\n",
            "Time:                        16:21:18   Log-Likelihood:                -1498.8\n",
            "No. Observations:                 506   AIC:                             3026.\n",
            "Df Residuals:                     492   BIC:                             3085.\n",
            "Df Model:                          13                                         \n",
            "Covariance Type:            nonrobust                                         \n",
            "==============================================================================\n",
            "                 coef    std err          t      P>|t|      [0.025      0.975]\n",
            "------------------------------------------------------------------------------\n",
            "CRIM          -0.1080      0.033     -3.287      0.001      -0.173      -0.043\n",
            "ZN             0.0464      0.014      3.382      0.001       0.019       0.073\n",
            "INDUS          0.0206      0.061      0.334      0.738      -0.100       0.141\n",
            "CHAS           2.6867      0.862      3.118      0.002       0.994       4.380\n",
            "NOX          -17.7666      3.820     -4.651      0.000     -25.272     -10.262\n",
            "RM             3.8099      0.418      9.116      0.000       2.989       4.631\n",
            "AGE            0.0007      0.013      0.052      0.958      -0.025       0.027\n",
            "DIS           -1.4756      0.199     -7.398      0.000      -1.867      -1.084\n",
            "RAD            0.3060      0.066      4.613      0.000       0.176       0.436\n",
            "TAX           -0.0123      0.004     -3.280      0.001      -0.020      -0.005\n",
            "PTRATIO       -0.9527      0.131     -7.283      0.000      -1.210      -0.696\n",
            "B              0.0093      0.003      3.467      0.001       0.004       0.015\n",
            "LSTAT         -0.5248      0.051    -10.347      0.000      -0.624      -0.425\n",
            "intercept     36.4595      5.103      7.144      0.000      26.432      46.487\n",
            "==============================================================================\n",
            "Omnibus:                      178.041   Durbin-Watson:                   1.078\n",
            "Prob(Omnibus):                  0.000   Jarque-Bera (JB):              783.126\n",
            "Skew:                           1.521   Prob(JB):                    8.84e-171\n",
            "Kurtosis:                       8.281   Cond. No.                     1.51e+04\n",
            "==============================================================================\n",
            "\n",
            "Warnings:\n",
            "[1] Standard Errors assume that the covariance matrix of the errors is correctly specified.\n",
            "[2] The condition number is large, 1.51e+04. This might indicate that there are\n",
            "strong multicollinearity or other numerical problems.\n"
          ],
          "name": "stdout"
        }
      ]
    },
    {
      "cell_type": "markdown",
      "metadata": {
        "id": "0uKhsWypaLG1"
      },
      "source": [
        "###R2 and RSE"
      ]
    },
    {
      "cell_type": "code",
      "metadata": {
        "colab": {
          "base_uri": "https://localhost:8080/"
        },
        "id": "-9-rSvt1V8lp",
        "outputId": "e92de23a-2db1-4cb5-c8f3-3c6d8fc453d5"
      },
      "source": [
        "print('R2 of the model is , ' ,mlr.rsquared)\n",
        "print('RSE of the model is , ', np.sqrt(mlr.ssr/mlr.df_resid))"
      ],
      "execution_count": 157,
      "outputs": [
        {
          "output_type": "stream",
          "text": [
            "R2 of the model is ,  0.7406426641094095\n",
            "RSE of the model is ,  4.7452981816996305\n"
          ],
          "name": "stdout"
        }
      ]
    },
    {
      "cell_type": "markdown",
      "metadata": {
        "id": "dlT8W9AqaQ-K"
      },
      "source": [
        "###VIF "
      ]
    },
    {
      "cell_type": "code",
      "metadata": {
        "colab": {
          "base_uri": "https://localhost:8080/"
        },
        "id": "_L1RIh3yXaOY",
        "outputId": "f2fcc6a7-5d0f-4d21-a99f-89e2afbb2fe6"
      },
      "source": [
        "X = boston_df.drop('MEDIAN_VALUE', axis = 1)\n",
        "from statsmodels.stats.outliers_influence import variance_inflation_factor\n",
        "\n",
        "#https://stackoverflow.com/questions/42658379/variance-inflation-factor-in-python\n",
        "\n",
        "pd.Series([variance_inflation_factor(X.values, i) for i in range(X.shape[1])], \n",
        "          index=X.columns)"
      ],
      "execution_count": 158,
      "outputs": [
        {
          "output_type": "execute_result",
          "data": {
            "text/plain": [
              "CRIM           1.792192\n",
              "ZN             2.298758\n",
              "INDUS          3.991596\n",
              "CHAS           1.073995\n",
              "NOX            4.393720\n",
              "RM             1.933744\n",
              "AGE            3.100826\n",
              "DIS            3.955945\n",
              "RAD            7.484496\n",
              "TAX            9.008554\n",
              "PTRATIO        1.799084\n",
              "B              1.348521\n",
              "LSTAT          2.941491\n",
              "intercept    585.265238\n",
              "dtype: float64"
            ]
          },
          "metadata": {
            "tags": []
          },
          "execution_count": 158
        }
      ]
    },
    {
      "cell_type": "markdown",
      "metadata": {
        "id": "KyaY2JOEaT3c"
      },
      "source": [
        "###Interaction Terms"
      ]
    },
    {
      "cell_type": "code",
      "metadata": {
        "id": "d74xxanwaTj6"
      },
      "source": [
        "# I did try to not use the patsy formula till now, but for Interactions it is better to use the pasty "
      ],
      "execution_count": 159,
      "outputs": []
    },
    {
      "cell_type": "code",
      "metadata": {
        "id": "Mp7ZS3foXg_I"
      },
      "source": [
        "ml_interaction = smf.ols('MEDIAN_VALUE ~ LSTAT*AGE' , data=  boston_df).fit()"
      ],
      "execution_count": 160,
      "outputs": []
    },
    {
      "cell_type": "code",
      "metadata": {
        "colab": {
          "base_uri": "https://localhost:8080/"
        },
        "id": "i3icFNGb7Ggg",
        "outputId": "7a4ab772-56fc-4cd4-882f-ee692bc9505c"
      },
      "source": [
        "print(ml_interaction.summary())"
      ],
      "execution_count": 161,
      "outputs": [
        {
          "output_type": "stream",
          "text": [
            "                            OLS Regression Results                            \n",
            "==============================================================================\n",
            "Dep. Variable:           MEDIAN_VALUE   R-squared:                       0.556\n",
            "Model:                            OLS   Adj. R-squared:                  0.553\n",
            "Method:                 Least Squares   F-statistic:                     209.3\n",
            "Date:                Wed, 14 Jul 2021   Prob (F-statistic):           4.86e-88\n",
            "Time:                        16:21:18   Log-Likelihood:                -1635.0\n",
            "No. Observations:                 506   AIC:                             3278.\n",
            "Df Residuals:                     502   BIC:                             3295.\n",
            "Df Model:                           3                                         \n",
            "Covariance Type:            nonrobust                                         \n",
            "==============================================================================\n",
            "                 coef    std err          t      P>|t|      [0.025      0.975]\n",
            "------------------------------------------------------------------------------\n",
            "Intercept     36.0885      1.470     24.553      0.000      33.201      38.976\n",
            "LSTAT         -1.3921      0.167     -8.313      0.000      -1.721      -1.063\n",
            "AGE           -0.0007      0.020     -0.036      0.971      -0.040       0.038\n",
            "LSTAT:AGE      0.0042      0.002      2.244      0.025       0.001       0.008\n",
            "==============================================================================\n",
            "Omnibus:                      135.601   Durbin-Watson:                   0.965\n",
            "Prob(Omnibus):                  0.000   Jarque-Bera (JB):              296.955\n",
            "Skew:                           1.417   Prob(JB):                     3.29e-65\n",
            "Kurtosis:                       5.461   Cond. No.                     6.88e+03\n",
            "==============================================================================\n",
            "\n",
            "Warnings:\n",
            "[1] Standard Errors assume that the covariance matrix of the errors is correctly specified.\n",
            "[2] The condition number is large, 6.88e+03. This might indicate that there are\n",
            "strong multicollinearity or other numerical problems.\n"
          ],
          "name": "stdout"
        }
      ]
    },
    {
      "cell_type": "markdown",
      "metadata": {
        "id": "ych_0Uxj7XTg"
      },
      "source": [
        "Though the age is not significant but the interaction term is."
      ]
    },
    {
      "cell_type": "markdown",
      "metadata": {
        "id": "yJG4ZgnZ7gWG"
      },
      "source": [
        "##Non- Linear Transformation of the predictors "
      ]
    },
    {
      "cell_type": "code",
      "metadata": {
        "id": "HQs5OB2s7em6"
      },
      "source": [
        "mlr_fit1 = smf.ols('MEDIAN_VALUE ~ LSTAT ' , data = boston_df).fit()\n",
        "mlr_fit2 = smf.ols('MEDIAN_VALUE ~ LSTAT + np.power(LSTAT, 2)' , data = boston_df).fit()"
      ],
      "execution_count": 162,
      "outputs": []
    },
    {
      "cell_type": "code",
      "metadata": {
        "colab": {
          "base_uri": "https://localhost:8080/"
        },
        "id": "651flVNx7euT",
        "outputId": "270ccb86-116e-4ab5-8e83-19e492168967"
      },
      "source": [
        "print(mlr_fit1.summary())\n",
        "print('='*75 ,end = '\\n\\n')\n",
        "print(f'R2 - {mlr_fit1.rsquared} and MSE - {np.sqrt(mlr_fit1.ssr/mlr_fit1.df_resid)}')"
      ],
      "execution_count": 163,
      "outputs": [
        {
          "output_type": "stream",
          "text": [
            "                            OLS Regression Results                            \n",
            "==============================================================================\n",
            "Dep. Variable:           MEDIAN_VALUE   R-squared:                       0.544\n",
            "Model:                            OLS   Adj. R-squared:                  0.543\n",
            "Method:                 Least Squares   F-statistic:                     601.6\n",
            "Date:                Wed, 14 Jul 2021   Prob (F-statistic):           5.08e-88\n",
            "Time:                        16:21:18   Log-Likelihood:                -1641.5\n",
            "No. Observations:                 506   AIC:                             3287.\n",
            "Df Residuals:                     504   BIC:                             3295.\n",
            "Df Model:                           1                                         \n",
            "Covariance Type:            nonrobust                                         \n",
            "==============================================================================\n",
            "                 coef    std err          t      P>|t|      [0.025      0.975]\n",
            "------------------------------------------------------------------------------\n",
            "Intercept     34.5538      0.563     61.415      0.000      33.448      35.659\n",
            "LSTAT         -0.9500      0.039    -24.528      0.000      -1.026      -0.874\n",
            "==============================================================================\n",
            "Omnibus:                      137.043   Durbin-Watson:                   0.892\n",
            "Prob(Omnibus):                  0.000   Jarque-Bera (JB):              291.373\n",
            "Skew:                           1.453   Prob(JB):                     5.36e-64\n",
            "Kurtosis:                       5.319   Cond. No.                         29.7\n",
            "==============================================================================\n",
            "\n",
            "Warnings:\n",
            "[1] Standard Errors assume that the covariance matrix of the errors is correctly specified.\n",
            "===========================================================================\n",
            "\n",
            "R2 - 0.5441462975864799 and MSE - 6.215760405398068\n"
          ],
          "name": "stdout"
        }
      ]
    },
    {
      "cell_type": "code",
      "metadata": {
        "colab": {
          "base_uri": "https://localhost:8080/"
        },
        "id": "gZ1UayRw-KAj",
        "outputId": "4f3dac54-6830-418c-dc04-44a49d5af1bf"
      },
      "source": [
        "print(mlr_fit2.summary())\n",
        "print('='*75 ,end = '\\n\\n')\n",
        "print(f'R2 - {mlr_fit2.rsquared} and MSE - {np.sqrt(mlr_fit2.ssr/mlr_fit2.df_resid)}')"
      ],
      "execution_count": 164,
      "outputs": [
        {
          "output_type": "stream",
          "text": [
            "                            OLS Regression Results                            \n",
            "==============================================================================\n",
            "Dep. Variable:           MEDIAN_VALUE   R-squared:                       0.641\n",
            "Model:                            OLS   Adj. R-squared:                  0.639\n",
            "Method:                 Least Squares   F-statistic:                     448.5\n",
            "Date:                Wed, 14 Jul 2021   Prob (F-statistic):          1.56e-112\n",
            "Time:                        16:21:18   Log-Likelihood:                -1581.3\n",
            "No. Observations:                 506   AIC:                             3169.\n",
            "Df Residuals:                     503   BIC:                             3181.\n",
            "Df Model:                           2                                         \n",
            "Covariance Type:            nonrobust                                         \n",
            "======================================================================================\n",
            "                         coef    std err          t      P>|t|      [0.025      0.975]\n",
            "--------------------------------------------------------------------------------------\n",
            "Intercept             42.8620      0.872     49.149      0.000      41.149      44.575\n",
            "LSTAT                 -2.3328      0.124    -18.843      0.000      -2.576      -2.090\n",
            "np.power(LSTAT, 2)     0.0435      0.004     11.628      0.000       0.036       0.051\n",
            "==============================================================================\n",
            "Omnibus:                      107.006   Durbin-Watson:                   0.921\n",
            "Prob(Omnibus):                  0.000   Jarque-Bera (JB):              228.388\n",
            "Skew:                           1.128   Prob(JB):                     2.55e-50\n",
            "Kurtosis:                       5.397   Cond. No.                     1.13e+03\n",
            "==============================================================================\n",
            "\n",
            "Warnings:\n",
            "[1] Standard Errors assume that the covariance matrix of the errors is correctly specified.\n",
            "[2] The condition number is large, 1.13e+03. This might indicate that there are\n",
            "strong multicollinearity or other numerical problems.\n",
            "===========================================================================\n",
            "\n",
            "R2 - 0.6407168971636612 and MSE - 5.523714131805205\n"
          ],
          "name": "stdout"
        }
      ]
    },
    {
      "cell_type": "markdown",
      "metadata": {
        "id": "JJOGc4iJ_ffn"
      },
      "source": [
        "In the 2nd case where we transformed the data , we see a higher R2 and smaller MSE plus the p value is nearly zero which makes the quadratic fit better"
      ]
    },
    {
      "cell_type": "markdown",
      "metadata": {
        "id": "WVYTAS0vAEE5"
      },
      "source": [
        "##ANOVA"
      ]
    },
    {
      "cell_type": "markdown",
      "metadata": {
        "id": "jxd4wIvOAhA8"
      },
      "source": [
        "The anova_lm function performs a hypothesis test comparing the two models, the null hypothesis is that the two model fit the data equally well, and the alternative hypothesis is that the full model is superior."
      ]
    },
    {
      "cell_type": "code",
      "metadata": {
        "id": "XtS34Pun7ezO"
      },
      "source": [
        "import statsmodels.api as sm\n",
        "table = sm.stats.anova_lm(mlr_fit1 , mlr_fit2 )"
      ],
      "execution_count": 165,
      "outputs": []
    },
    {
      "cell_type": "code",
      "metadata": {
        "colab": {
          "base_uri": "https://localhost:8080/",
          "height": 112
        },
        "id": "3Tq8siRE7e3F",
        "outputId": "c214c0e3-c4c9-4c5b-cb51-eebc6d17eae5"
      },
      "source": [
        "table"
      ],
      "execution_count": 166,
      "outputs": [
        {
          "output_type": "execute_result",
          "data": {
            "text/html": [
              "<div>\n",
              "<style scoped>\n",
              "    .dataframe tbody tr th:only-of-type {\n",
              "        vertical-align: middle;\n",
              "    }\n",
              "\n",
              "    .dataframe tbody tr th {\n",
              "        vertical-align: top;\n",
              "    }\n",
              "\n",
              "    .dataframe thead th {\n",
              "        text-align: right;\n",
              "    }\n",
              "</style>\n",
              "<table border=\"1\" class=\"dataframe\">\n",
              "  <thead>\n",
              "    <tr style=\"text-align: right;\">\n",
              "      <th></th>\n",
              "      <th>df_resid</th>\n",
              "      <th>ssr</th>\n",
              "      <th>df_diff</th>\n",
              "      <th>ss_diff</th>\n",
              "      <th>F</th>\n",
              "      <th>Pr(&gt;F)</th>\n",
              "    </tr>\n",
              "  </thead>\n",
              "  <tbody>\n",
              "    <tr>\n",
              "      <th>0</th>\n",
              "      <td>504.0</td>\n",
              "      <td>19472.381418</td>\n",
              "      <td>0.0</td>\n",
              "      <td>NaN</td>\n",
              "      <td>NaN</td>\n",
              "      <td>NaN</td>\n",
              "    </tr>\n",
              "    <tr>\n",
              "      <th>1</th>\n",
              "      <td>503.0</td>\n",
              "      <td>15347.243158</td>\n",
              "      <td>1.0</td>\n",
              "      <td>4125.13826</td>\n",
              "      <td>135.199822</td>\n",
              "      <td>7.630116e-28</td>\n",
              "    </tr>\n",
              "  </tbody>\n",
              "</table>\n",
              "</div>"
            ],
            "text/plain": [
              "   df_resid           ssr  df_diff     ss_diff           F        Pr(>F)\n",
              "0     504.0  19472.381418      0.0         NaN         NaN           NaN\n",
              "1     503.0  15347.243158      1.0  4125.13826  135.199822  7.630116e-28"
            ]
          },
          "metadata": {
            "tags": []
          },
          "execution_count": 166
        }
      ]
    },
    {
      "cell_type": "markdown",
      "metadata": {
        "id": "1vrNbkLlOtaN"
      },
      "source": [
        "The F- Statistics is 135 and the pvalue is virtually 0, so it is very clear evidence against the null, so the model containg the lstat**2 is superior to the model that only contains lstat"
      ]
    },
    {
      "cell_type": "code",
      "metadata": {
        "colab": {
          "base_uri": "https://localhost:8080/",
          "height": 392
        },
        "id": "atDpH9kLPnJa",
        "outputId": "640e45d3-83d6-4e1a-b3b4-d22664658209"
      },
      "source": [
        "predict = mlr_fit2.fittedvalues\n",
        "\n",
        "residuals = mlr_fit2.resid\n",
        "student_resid = mlr_fit2.outlier_test().loc[:,'student_resid']\n",
        "fig ,(ax1,ax2) = plt.subplots(1,2, figsize = [15,6])\n",
        "\n",
        "ax1.plot(predict , residuals , 'o' ,color = 'black' ,mfc ='none' )\n",
        "ax1.set_xlabel('Fitted Values')\n",
        "ax1.set_ylabel('Residuals')\n",
        "ax2.plot(predict ,student_resid , 'o' ,color = 'black' ,mfc ='none' )\n",
        "ax2.set_xlabel('Fitted Values')\n",
        "ax2.set_ylabel('Studentized Residuals')\n",
        "\n",
        "plt.show()"
      ],
      "execution_count": 167,
      "outputs": [
        {
          "output_type": "display_data",
          "data": {
            "image/png": "[encoded data removed]",
            "text/plain": [
              "<Figure size 1080x432 with 2 Axes>"
            ]
          },
          "metadata": {
            "tags": []
          }
        }
      ]
    },
    {
      "cell_type": "markdown",
      "metadata": {
        "id": "xLpO20-cQaGF"
      },
      "source": [
        "Now there is little to no patterns in the residual plots. Though there still are outliers. "
      ]
    },
    {
      "cell_type": "markdown",
      "metadata": {
        "id": "RUaY4_xEQx91"
      },
      "source": [
        "###5th order polynomial fit\n"
      ]
    },
    {
      "cell_type": "code",
      "metadata": {
        "id": "F7YxlY2AknTR"
      },
      "source": [
        "def poly(pred, degree):\n",
        "  \"\"\" function to give the polynomial terms to given degree\"\"\"\n",
        "  list_1 = [f'np.power({pred}, {j})' for j in range(1,degree+1)]\n",
        "  return '+'.join(list_1)"
      ],
      "execution_count": 168,
      "outputs": []
    },
    {
      "cell_type": "code",
      "metadata": {
        "colab": {
          "base_uri": "https://localhost:8080/"
        },
        "id": "YdlnsgMIlw3C",
        "outputId": "eef94af6-609d-4744-fb1b-ba94b74015e6"
      },
      "source": [
        "print(poly('LSTAT', 5))"
      ],
      "execution_count": 169,
      "outputs": [
        {
          "output_type": "stream",
          "text": [
            "np.power(LSTAT, 1)+np.power(LSTAT, 2)+np.power(LSTAT, 3)+np.power(LSTAT, 4)+np.power(LSTAT, 5)\n"
          ],
          "name": "stdout"
        }
      ]
    },
    {
      "cell_type": "code",
      "metadata": {
        "id": "-fFiChqGQxfl"
      },
      "source": [
        "for_ = 'MEDIAN_VALUE ~' + poly('LSTAT', 5)\n",
        "mlr_5 = smf.ols(formula = for_ , data = boston_df).fit()"
      ],
      "execution_count": 170,
      "outputs": []
    },
    {
      "cell_type": "code",
      "metadata": {
        "colab": {
          "base_uri": "https://localhost:8080/"
        },
        "id": "2Gwe7JHXbqY8",
        "outputId": "af41c0ef-7006-4bb1-81b3-909b0240dbb8"
      },
      "source": [
        "print(mlr_5.summary())"
      ],
      "execution_count": 171,
      "outputs": [
        {
          "output_type": "stream",
          "text": [
            "                            OLS Regression Results                            \n",
            "==============================================================================\n",
            "Dep. Variable:           MEDIAN_VALUE   R-squared:                       0.682\n",
            "Model:                            OLS   Adj. R-squared:                  0.679\n",
            "Method:                 Least Squares   F-statistic:                     214.2\n",
            "Date:                Wed, 14 Jul 2021   Prob (F-statistic):          8.73e-122\n",
            "Time:                        16:21:19   Log-Likelihood:                -1550.6\n",
            "No. Observations:                 506   AIC:                             3113.\n",
            "Df Residuals:                     500   BIC:                             3139.\n",
            "Df Model:                           5                                         \n",
            "Covariance Type:            nonrobust                                         \n",
            "======================================================================================\n",
            "                         coef    std err          t      P>|t|      [0.025      0.975]\n",
            "--------------------------------------------------------------------------------------\n",
            "Intercept             67.6997      3.604     18.783      0.000      60.618      74.781\n",
            "np.power(LSTAT, 1)   -11.9911      1.526     -7.859      0.000     -14.989      -8.994\n",
            "np.power(LSTAT, 2)     1.2728      0.223      5.703      0.000       0.834       1.711\n",
            "np.power(LSTAT, 3)    -0.0683      0.014     -4.747      0.000      -0.097      -0.040\n",
            "np.power(LSTAT, 4)     0.0017      0.000      4.143      0.000       0.001       0.003\n",
            "np.power(LSTAT, 5) -1.632e-05   4.42e-06     -3.692      0.000    -2.5e-05   -7.63e-06\n",
            "==============================================================================\n",
            "Omnibus:                      144.085   Durbin-Watson:                   0.987\n",
            "Prob(Omnibus):                  0.000   Jarque-Bera (JB):              494.545\n",
            "Skew:                           1.292   Prob(JB):                    4.08e-108\n",
            "Kurtosis:                       7.096   Cond. No.                     1.37e+08\n",
            "==============================================================================\n",
            "\n",
            "Warnings:\n",
            "[1] Standard Errors assume that the covariance matrix of the errors is correctly specified.\n",
            "[2] The condition number is large, 1.37e+08. This might indicate that there are\n",
            "strong multicollinearity or other numerical problems.\n"
          ],
          "name": "stdout"
        }
      ]
    },
    {
      "cell_type": "markdown",
      "metadata": {
        "id": "5rYStzMzdVX2"
      },
      "source": [
        "The coefs are different from R because there is collinearity between these predictors"
      ]
    },
    {
      "cell_type": "markdown",
      "metadata": {
        "id": "kmi0zw86dnyR"
      },
      "source": [
        "###Log transformation"
      ]
    },
    {
      "cell_type": "code",
      "metadata": {
        "colab": {
          "base_uri": "https://localhost:8080/"
        },
        "id": "XF2KvWjCdm72",
        "outputId": "3c12c7a6-13bf-40b9-b90a-aa8146f7a55e"
      },
      "source": [
        "mlr_log = smf.ols('MEDIAN_VALUE ~ np.log(RM)' , data = boston_df ).fit()\n",
        "print(mlr_log.summary())"
      ],
      "execution_count": 172,
      "outputs": [
        {
          "output_type": "stream",
          "text": [
            "                            OLS Regression Results                            \n",
            "==============================================================================\n",
            "Dep. Variable:           MEDIAN_VALUE   R-squared:                       0.436\n",
            "Model:                            OLS   Adj. R-squared:                  0.435\n",
            "Method:                 Least Squares   F-statistic:                     389.3\n",
            "Date:                Wed, 14 Jul 2021   Prob (F-statistic):           1.22e-64\n",
            "Time:                        16:21:19   Log-Likelihood:                -1695.4\n",
            "No. Observations:                 506   AIC:                             3395.\n",
            "Df Residuals:                     504   BIC:                             3403.\n",
            "Df Model:                           1                                         \n",
            "Covariance Type:            nonrobust                                         \n",
            "==============================================================================\n",
            "                 coef    std err          t      P>|t|      [0.025      0.975]\n",
            "------------------------------------------------------------------------------\n",
            "Intercept    -76.4878      5.028    -15.213      0.000     -86.366     -66.610\n",
            "np.log(RM)    54.0546      2.739     19.732      0.000      48.672      59.437\n",
            "==============================================================================\n",
            "Omnibus:                      117.102   Durbin-Watson:                   0.681\n",
            "Prob(Omnibus):                  0.000   Jarque-Bera (JB):              584.336\n",
            "Skew:                           0.916   Prob(JB):                    1.30e-127\n",
            "Kurtosis:                       7.936   Cond. No.                         38.9\n",
            "==============================================================================\n",
            "\n",
            "Warnings:\n",
            "[1] Standard Errors assume that the covariance matrix of the errors is correctly specified.\n"
          ],
          "name": "stdout"
        }
      ]
    },
    {
      "cell_type": "markdown",
      "metadata": {
        "id": "uR0nNilKe_po"
      },
      "source": [
        "##Qualitative predictors"
      ]
    },
    {
      "cell_type": "code",
      "metadata": {
        "id": "t4-LMe3IdnCa"
      },
      "source": [
        "carseats = pd.read_csv('/content/Carseats.csv')"
      ],
      "execution_count": 173,
      "outputs": []
    },
    {
      "cell_type": "code",
      "metadata": {
        "colab": {
          "base_uri": "https://localhost:8080/"
        },
        "id": "doU3lx3tdnIZ",
        "outputId": "b1bc5837-2106-4e4c-a058-ae6c8ad68f41"
      },
      "source": [
        "carseats.columns"
      ],
      "execution_count": 174,
      "outputs": [
        {
          "output_type": "execute_result",
          "data": {
            "text/plain": [
              "Index(['Sales', 'CompPrice', 'Income', 'Advertising', 'Population', 'Price',\n",
              "       'ShelveLoc', 'Age', 'Education', 'Urban', 'US'],\n",
              "      dtype='object')"
            ]
          },
          "metadata": {
            "tags": []
          },
          "execution_count": 174
        }
      ]
    },
    {
      "cell_type": "code",
      "metadata": {
        "colab": {
          "base_uri": "https://localhost:8080/"
        },
        "id": "LvjBc7TQfj_5",
        "outputId": "698ed7ff-a72f-4c63-dfdd-278483c670e4"
      },
      "source": [
        "print(carseats[['ShelveLoc']].head())"
      ],
      "execution_count": 175,
      "outputs": [
        {
          "output_type": "stream",
          "text": [
            "  ShelveLoc\n",
            "0       Bad\n",
            "1      Good\n",
            "2    Medium\n",
            "3    Medium\n",
            "4       Bad\n"
          ],
          "name": "stdout"
        }
      ]
    },
    {
      "cell_type": "code",
      "metadata": {
        "colab": {
          "base_uri": "https://localhost:8080/"
        },
        "id": "L-6QR6v9fot6",
        "outputId": "1526bb45-b9f2-4e8f-d12b-942865aee157"
      },
      "source": [
        "#https://stackoverflow.com/questions/22388498/statsmodels-linear-regression-patsy-formula-to-include-all-predictors-in-model\n",
        "all_columns = \"+\".join(carseats.columns[1:])\n",
        "for_ = 'Sales ~' + all_columns + '+ Income:Advertising + Price:Age'\n",
        "ml_carseats = smf.ols(formula= for_, data = carseats).fit()\n",
        "print(ml_carseats.summary())"
      ],
      "execution_count": 176,
      "outputs": [
        {
          "output_type": "stream",
          "text": [
            "                            OLS Regression Results                            \n",
            "==============================================================================\n",
            "Dep. Variable:                  Sales   R-squared:                       0.876\n",
            "Model:                            OLS   Adj. R-squared:                  0.872\n",
            "Method:                 Least Squares   F-statistic:                     210.0\n",
            "Date:                Wed, 14 Jul 2021   Prob (F-statistic):          6.14e-166\n",
            "Time:                        16:21:19   Log-Likelihood:                -564.67\n",
            "No. Observations:                 400   AIC:                             1157.\n",
            "Df Residuals:                     386   BIC:                             1213.\n",
            "Df Model:                          13                                         \n",
            "Covariance Type:            nonrobust                                         \n",
            "=======================================================================================\n",
            "                          coef    std err          t      P>|t|      [0.025      0.975]\n",
            "---------------------------------------------------------------------------------------\n",
            "Intercept               6.5756      1.009      6.519      0.000       4.592       8.559\n",
            "ShelveLoc[T.Good]       4.8487      0.153     31.724      0.000       4.548       5.149\n",
            "ShelveLoc[T.Medium]     1.9533      0.126     15.531      0.000       1.706       2.201\n",
            "Urban[T.Yes]            0.1402      0.112      1.247      0.213      -0.081       0.361\n",
            "US[T.Yes]              -0.1576      0.149     -1.058      0.291      -0.450       0.135\n",
            "CompPrice               0.0929      0.004     22.567      0.000       0.085       0.101\n",
            "Income                  0.0109      0.003      4.183      0.000       0.006       0.016\n",
            "Advertising             0.0702      0.023      3.107      0.002       0.026       0.115\n",
            "Population              0.0002      0.000      0.433      0.665      -0.001       0.001\n",
            "Price                  -0.1008      0.007    -13.549      0.000      -0.115      -0.086\n",
            "Age                    -0.0579      0.016     -3.633      0.000      -0.089      -0.027\n",
            "Education              -0.0209      0.020     -1.063      0.288      -0.059       0.018\n",
            "Income:Advertising      0.0008      0.000      2.698      0.007       0.000       0.001\n",
            "Price:Age               0.0001      0.000      0.801      0.424      -0.000       0.000\n",
            "==============================================================================\n",
            "Omnibus:                        1.281   Durbin-Watson:                   2.047\n",
            "Prob(Omnibus):                  0.527   Jarque-Bera (JB):                1.147\n",
            "Skew:                           0.129   Prob(JB):                        0.564\n",
            "Kurtosis:                       3.050   Cond. No.                     1.31e+05\n",
            "==============================================================================\n",
            "\n",
            "Warnings:\n",
            "[1] Standard Errors assume that the covariance matrix of the errors is correctly specified.\n",
            "[2] The condition number is large, 1.31e+05. This might indicate that there are\n",
            "strong multicollinearity or other numerical problems.\n"
          ],
          "name": "stdout"
        }
      ]
    }
  ]
}